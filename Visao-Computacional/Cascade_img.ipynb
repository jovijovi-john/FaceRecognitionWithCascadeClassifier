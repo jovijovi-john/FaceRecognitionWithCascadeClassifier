{
 "cells": [
  {
   "cell_type": "code",
   "execution_count": 1,
   "metadata": {},
   "outputs": [],
   "source": [
    "#carregando bibliotecas\n",
    "import cv2\n",
    "import numpy as np\n",
    "import matplotlib.pyplot as plt\n",
    "\n",
    "#Carregando o arquivo de características\n",
    "cascadeFace = cv2.CascadeClassifier('cascades/haarcascade_frontalface_alt2.xml')\n",
    "cascadeeyes = cv2.CascadeClassifier('cascades/haarcascade_eye.xml')\n",
    "\n",
    "#carregando imagem original\n",
    "imgOriginal = cv2.imread('imgs/12.jpeg')\n",
    "imgTratada\t=\tcv2.GaussianBlur(imgOriginal,\t(5,5),\t0)\n",
    "\n",
    "#Convertendo cores da imagem para cinza\n",
    "imgModificada = cv2.cvtColor(imgOriginal, cv2.COLOR_BGR2GRAY)\n",
    "\n",
    "#detectando faces na imagem com a passagem de parâmetros\n",
    "face = cascadeFace.detectMultiScale(imgModificada,1.05,19,minSize=(10,10))\n",
    "face_eye = cascadeeyes.detectMultiScale(imgModificada,1.05,30,minSize=(1,1))\n",
    "\n",
    "#desenhar retânculo nas imagens detectadas\n",
    "for(x,y,w,h) in face:\n",
    "    cv2.rectangle(imgOriginal, (x,y),(x+w,y+h),(0,0,255),2)\n",
    "#for(x,y,w,h) in face_eye:\n",
    "    #cv2.rectangle(imgOriginal, (x,y),(x+w,y+h),(0,255,255),2)\n",
    "    \n",
    "cv2.imshow(\"Resultado\",\timgOriginal)\n",
    "cv2.waitKey(0)\n",
    "cv2.destroyAllWindows()\n",
    "#plt.imshow(imgOriginal)\n",
    "\n"
   ]
  }
 ],
 "metadata": {
  "kernelspec": {
   "display_name": "Python 3.10.6 64-bit",
   "language": "python",
   "name": "python3"
  },
  "language_info": {
   "codemirror_mode": {
    "name": "ipython",
    "version": 3
   },
   "file_extension": ".py",
   "mimetype": "text/x-python",
   "name": "python",
   "nbconvert_exporter": "python",
   "pygments_lexer": "ipython3",
   "version": "3.10.6"
  },
  "orig_nbformat": 4,
  "vscode": {
   "interpreter": {
    "hash": "6198e9a42f5542cb1c74e8b5846f1487b37ddda77a02754b3154d4dba2d99966"
   }
  }
 },
 "nbformat": 4,
 "nbformat_minor": 2
}
