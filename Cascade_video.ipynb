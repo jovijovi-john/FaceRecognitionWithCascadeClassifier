{
 "cells": [
  {
   "cell_type": "code",
   "execution_count": 1,
   "metadata": {},
   "outputs": [
    {
     "ename": "KeyboardInterrupt",
     "evalue": "",
     "output_type": "error",
     "traceback": [
      "\u001b[1;31m---------------------------------------------------------------------------\u001b[0m",
      "\u001b[1;31mKeyboardInterrupt\u001b[0m                         Traceback (most recent call last)",
      "Cell \u001b[1;32mIn [1], line 20\u001b[0m\n\u001b[0;32m     16\u001b[0m ret, frame \u001b[38;5;241m=\u001b[39m capture\u001b[38;5;241m.\u001b[39mread()\n\u001b[0;32m     17\u001b[0m gray \u001b[38;5;241m=\u001b[39m cv2\u001b[38;5;241m.\u001b[39mcvtColor(frame, cv2\u001b[38;5;241m.\u001b[39mCOLOR_BGR2GRAY)\n\u001b[1;32m---> 20\u001b[0m faces \u001b[38;5;241m=\u001b[39m faceClassifier\u001b[38;5;241m.\u001b[39mdetectMultiScale(gray)\n\u001b[0;32m     23\u001b[0m \u001b[38;5;28;01mfor\u001b[39;00m x,y,w,h \u001b[38;5;129;01min\u001b[39;00m faces:\n\u001b[0;32m     24\u001b[0m     cv2\u001b[38;5;241m.\u001b[39mrectangle(frame, (x,y), (x\u001b[38;5;241m+\u001b[39mw,y\u001b[38;5;241m+\u001b[39mh),(\u001b[38;5;241m0\u001b[39m,\u001b[38;5;241m255\u001b[39m,\u001b[38;5;241m0\u001b[39m),\u001b[38;5;241m2\u001b[39m)\n",
      "\u001b[1;31mKeyboardInterrupt\u001b[0m: "
     ]
    }
   ],
   "source": [
    "from turtle import bgcolor\n",
    "import cv2\n",
    "xml_haar_cascade = 'cascades/haarcascade_frontalface_alt2.xml'\n",
    "\n",
    "\n",
    "#carregar classificador\n",
    "faceClassifier = cv2.CascadeClassifier(xml_haar_cascade)\n",
    "\n",
    "#Pegar e definir tamanho da imagem da camera\n",
    "capture = cv2.VideoCapture(0)\n",
    "capture.set(cv2.CAP_PROP_FRAME_WIDTH, 320)\n",
    "capture.set(cv2.CAP_PROP_FRAME_HEIGHT, 240)\n",
    "\n",
    "#Lê imagens da câmera em loop e desenha retângulos\n",
    "while not cv2.waitKey(5) & 0XFF == ord(\"q\"):\n",
    "    ret, frame = capture.read()\n",
    "    gray = cv2.cvtColor(frame, cv2.COLOR_BGR2GRAY)\n",
    "    \n",
    "    \n",
    "    faces = faceClassifier.detectMultiScale(gray)\n",
    "    \n",
    "    \n",
    "    for x,y,w,h in faces:\n",
    "        cv2.rectangle(frame, (x,y), (x+w,y+h),(0,255,0),2)\n",
    "    \n",
    "    cv2.imshow('color', frame)\n",
    "    \n",
    "    \n",
    "    \n",
    "\n"
   ]
  },
  {
   "cell_type": "code",
   "execution_count": null,
   "metadata": {},
   "outputs": [],
   "source": [
    "    "
   ]
  },
  {
   "cell_type": "code",
   "execution_count": null,
   "metadata": {},
   "outputs": [],
   "source": []
  }
 ],
 "metadata": {
  "kernelspec": {
   "display_name": "Python 3.10.6 64-bit",
   "language": "python",
   "name": "python3"
  },
  "language_info": {
   "codemirror_mode": {
    "name": "ipython",
    "version": 3
   },
   "file_extension": ".py",
   "mimetype": "text/x-python",
   "name": "python",
   "nbconvert_exporter": "python",
   "pygments_lexer": "ipython3",
   "version": "3.10.6"
  },
  "orig_nbformat": 4,
  "vscode": {
   "interpreter": {
    "hash": "6198e9a42f5542cb1c74e8b5846f1487b37ddda77a02754b3154d4dba2d99966"
   }
  }
 },
 "nbformat": 4,
 "nbformat_minor": 2
}
